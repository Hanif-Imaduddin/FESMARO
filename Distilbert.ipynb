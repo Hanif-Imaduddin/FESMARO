{
 "cells": [
  {
   "cell_type": "code",
   "execution_count": 48,
   "id": "b0b888a7-8147-4186-a2e2-525589184737",
   "metadata": {
    "scrolled": true
   },
   "outputs": [],
   "source": [
    "import numpy as np\n",
    "import pandas as pd\n",
    "import random\n",
    "\n",
    "import datasets\n",
    "import transformers\n",
    "from transformers import AutoTokenizer\n",
    "from transformers import AutoModelForSequenceClassification, TrainingArguments, Trainer, EarlyStoppingCallback\n",
    "from tqdm import tqdm_notebook\n",
    "import torch\n",
    "\n",
    "import matplotlib.pyplot as plt\n",
    "import seaborn as sns\n",
    "\n",
    "import re\n",
    "\n",
    "from sklearn.model_selection import train_test_split\n",
    "from sklearn.metrics import f1_score,accuracy_score,classification_report\n",
    "from sklearn.preprocessing import LabelEncoder\n",
    "\n",
    "device = torch.device('cuda')"
   ]
  },
  {
   "cell_type": "code",
   "execution_count": 2,
   "id": "7227d6c5-b78b-445d-88e2-ab297a8c326e",
   "metadata": {},
   "outputs": [],
   "source": [
    "df = pd.read_csv(\"Dataset Pertama_train.csv\", header=None, names=[\"kelas\", \"title\", \"review\"])"
   ]
  },
  {
   "cell_type": "code",
   "execution_count": 3,
   "id": "8500026a-9f2e-433d-84b3-76e6b0c1ab14",
   "metadata": {},
   "outputs": [],
   "source": [
    "df = df.drop('title',axis=1)"
   ]
  },
  {
   "cell_type": "markdown",
   "id": "1fd3b3d1-26d6-4f8e-bf4a-80abdcba839b",
   "metadata": {},
   "source": [
    "## Preprocessing"
   ]
  },
  {
   "cell_type": "code",
   "execution_count": 4,
   "id": "3a98668a-659a-4894-97b9-a0df594a297a",
   "metadata": {},
   "outputs": [],
   "source": [
    "df['review'] = df['review'].str.lower()"
   ]
  },
  {
   "cell_type": "code",
   "execution_count": 5,
   "id": "4ce1e29d-9a8a-4ba5-abba-060485da2bc9",
   "metadata": {},
   "outputs": [],
   "source": [
    "df = df.rename(columns={'review':'text','kelas':'label'})"
   ]
  },
  {
   "cell_type": "code",
   "execution_count": 6,
   "id": "b2efd154-87d5-4544-9fc0-df9b451b0bd6",
   "metadata": {},
   "outputs": [],
   "source": [
    "df['label'] = df['label']-1"
   ]
  },
  {
   "cell_type": "markdown",
   "id": "474e216f-aeeb-45f5-9b3b-6015b824a10e",
   "metadata": {},
   "source": [
    "## Data Spliting"
   ]
  },
  {
   "cell_type": "code",
   "execution_count": 7,
   "id": "5cbf7571-feb6-4cb5-b600-de06dd6dcc09",
   "metadata": {},
   "outputs": [],
   "source": [
    "train,val = train_test_split(df,stratify=df['label'],random_state=42,shuffle=True,test_size=0.4)\n",
    "val,test = train_test_split(val,stratify=val['label'],random_state=42,shuffle=True,test_size=0.5)"
   ]
  },
  {
   "cell_type": "code",
   "execution_count": 8,
   "id": "90068b2c-f42c-4d7d-b1e8-47708ac3e84a",
   "metadata": {},
   "outputs": [],
   "source": [
    "# Mengambil sample untuk data latih\n",
    "train,_ = train_test_split(train,stratify=train['label'],random_state=42,shuffle=True,train_size=0.01)"
   ]
  },
  {
   "cell_type": "code",
   "execution_count": 9,
   "id": "f1cb4bdb-c0d6-4ccd-8b8b-e76057b0c07c",
   "metadata": {},
   "outputs": [],
   "source": [
    "# Mengambil sample untuk data validasi\n",
    "val,_ = train_test_split(val,stratify=val['label'],random_state=42,shuffle=True,train_size=0.01)"
   ]
  },
  {
   "cell_type": "code",
   "execution_count": 10,
   "id": "690ef901-232b-447d-9569-46e439c9a238",
   "metadata": {},
   "outputs": [
    {
     "name": "stdout",
     "output_type": "stream",
     "text": [
      "Volume data latih: 21600 baris\n",
      "\n",
      "Volume data validasi: 7200 baris\n",
      "\n",
      "Volume data uji: 720000 baris\n",
      "\n"
     ]
    }
   ],
   "source": [
    "print(f'Volume data latih: {train.shape[0]} baris\\n')\n",
    "print(f'Volume data validasi: {val.shape[0]} baris\\n')\n",
    "print(f'Volume data uji: {test.shape[0]} baris\\n')"
   ]
  },
  {
   "cell_type": "code",
   "execution_count": 11,
   "id": "ab1b797c-39f5-40d6-9805-dff9980c2b75",
   "metadata": {},
   "outputs": [],
   "source": [
    "data = datasets.DatasetDict({\n",
    "    'train': datasets.Dataset.from_pandas(train.reset_index()),\n",
    "    'validation': datasets.Dataset.from_pandas(val.reset_index()),\n",
    "    'test': datasets.Dataset.from_pandas(test.reset_index()),\n",
    "})"
   ]
  },
  {
   "cell_type": "code",
   "execution_count": 12,
   "id": "25168bc8-071d-47c3-ba01-a3af71fa4bf8",
   "metadata": {},
   "outputs": [
    {
     "data": {
      "text/plain": [
       "DatasetDict({\n",
       "    train: Dataset({\n",
       "        features: ['index', 'label', 'text'],\n",
       "        num_rows: 21600\n",
       "    })\n",
       "    validation: Dataset({\n",
       "        features: ['index', 'label', 'text'],\n",
       "        num_rows: 7200\n",
       "    })\n",
       "    test: Dataset({\n",
       "        features: ['index', 'label', 'text'],\n",
       "        num_rows: 720000\n",
       "    })\n",
       "})"
      ]
     },
     "execution_count": 12,
     "metadata": {},
     "output_type": "execute_result"
    }
   ],
   "source": [
    "data"
   ]
  },
  {
   "cell_type": "markdown",
   "id": "9e1c0cca-4ad5-4816-8b5e-97220c9ab381",
   "metadata": {},
   "source": [
    "## Tokenize"
   ]
  },
  {
   "cell_type": "code",
   "execution_count": 13,
   "id": "03c9351d-d46f-478b-953d-e72dbc4d7913",
   "metadata": {},
   "outputs": [],
   "source": [
    "tokenizer = AutoTokenizer.from_pretrained('distilbert/distilbert-base-uncased')"
   ]
  },
  {
   "cell_type": "code",
   "execution_count": 14,
   "id": "23c8c4c0-d297-4894-9c6d-7446affbc811",
   "metadata": {},
   "outputs": [
    {
     "data": {
      "text/plain": [
       "['[CLS]',\n",
       " 'i',\n",
       " 'love',\n",
       " 'this',\n",
       " 'cd',\n",
       " '.',\n",
       " 'i',\n",
       " 'saw',\n",
       " 'them',\n",
       " 'in',\n",
       " 'person',\n",
       " 'and',\n",
       " 'it',\n",
       " 'was',\n",
       " 'an',\n",
       " 'awesome',\n",
       " 'ex',\n",
       " '##per',\n",
       " '##ien',\n",
       " '##c',\n",
       " '.',\n",
       " 'i',\n",
       " 'was',\n",
       " 'never',\n",
       " 'so',\n",
       " 'happy',\n",
       " 'to',\n",
       " 'be',\n",
       " 'crying',\n",
       " 'in',\n",
       " 'my',\n",
       " 'life',\n",
       " '.',\n",
       " 'when',\n",
       " 'i',\n",
       " 'listen',\n",
       " 'to',\n",
       " 'this',\n",
       " 'cd',\n",
       " 'i',\n",
       " 'feel',\n",
       " 'that',\n",
       " 'i',\n",
       " 'have',\n",
       " 'my',\n",
       " 'dear',\n",
       " 'departed',\n",
       " 'irish',\n",
       " 'catholic',\n",
       " 'grandmother',\n",
       " 'on',\n",
       " 'one',\n",
       " 'shoulder',\n",
       " 'and',\n",
       " 'my',\n",
       " 'darling',\n",
       " 'late',\n",
       " 'mother',\n",
       " 'on',\n",
       " 'the',\n",
       " 'other',\n",
       " '.',\n",
       " 'the',\n",
       " 'music',\n",
       " 'tugs',\n",
       " 'at',\n",
       " 'your',\n",
       " 'heart',\n",
       " '.',\n",
       " 'each',\n",
       " 'tenor',\n",
       " 'has',\n",
       " 'his',\n",
       " 'own',\n",
       " 'unique',\n",
       " 'style',\n",
       " '.',\n",
       " 'you',\n",
       " 'feel',\n",
       " 'like',\n",
       " 'you',\n",
       " 'should',\n",
       " 'be',\n",
       " 'in',\n",
       " 'a',\n",
       " 'pub',\n",
       " ',',\n",
       " 'drinking',\n",
       " 'a',\n",
       " 'beer',\n",
       " 'when',\n",
       " 'listening',\n",
       " 'to',\n",
       " 'the',\n",
       " 'home',\n",
       " '##y',\n",
       " 'sound',\n",
       " 'of',\n",
       " 'john',\n",
       " 'mc',\n",
       " '##dermott',\n",
       " '.',\n",
       " 'anthony',\n",
       " 'ke',\n",
       " '##arns',\n",
       " 'breaks',\n",
       " 'your',\n",
       " 'heart',\n",
       " 'when',\n",
       " 'he',\n",
       " 'sings',\n",
       " 'grace',\n",
       " '.',\n",
       " 'ronan',\n",
       " 'ty',\n",
       " '##nan',\n",
       " 'makes',\n",
       " 'you',\n",
       " 'think',\n",
       " 'of',\n",
       " 'your',\n",
       " 'first',\n",
       " 'love',\n",
       " 'when',\n",
       " 'he',\n",
       " 'sings',\n",
       " 'when',\n",
       " 'you',\n",
       " 'were',\n",
       " 'sweet',\n",
       " 'sixteen',\n",
       " 'and',\n",
       " 'he',\n",
       " 'makes',\n",
       " 'you',\n",
       " 'year',\n",
       " '##n',\n",
       " 'to',\n",
       " 'go',\n",
       " 'back',\n",
       " 'home',\n",
       " 'when',\n",
       " 'he',\n",
       " 'sings',\n",
       " 'the',\n",
       " 'town',\n",
       " 'i',\n",
       " 'loved',\n",
       " 'so',\n",
       " 'well',\n",
       " '.',\n",
       " 'only',\n",
       " 'the',\n",
       " 'rivers',\n",
       " 'run',\n",
       " 'free',\n",
       " 'makes',\n",
       " 'you',\n",
       " 'realize',\n",
       " 'the',\n",
       " 'pain',\n",
       " 'the',\n",
       " 'irish',\n",
       " 'feel',\n",
       " '.',\n",
       " 'i',\n",
       " 'love',\n",
       " ',',\n",
       " 'love',\n",
       " ',',\n",
       " 'love',\n",
       " 'this',\n",
       " 'cd',\n",
       " '.',\n",
       " '[SEP]']"
      ]
     },
     "execution_count": 14,
     "metadata": {},
     "output_type": "execute_result"
    }
   ],
   "source": [
    "sample_text = train.iloc[0,1]\n",
    "\n",
    "token = tokenizer(sample_text)\n",
    "input_ids = token.input_ids\n",
    "tokenizer.convert_ids_to_tokens(input_ids)"
   ]
  },
  {
   "cell_type": "code",
   "execution_count": 15,
   "id": "9bcd7960-eb24-485e-aacf-102fa2ecc77b",
   "metadata": {},
   "outputs": [
    {
     "name": "stderr",
     "output_type": "stream",
     "text": [
      "Map: 100%|██████████████████████████████████████████████████████████████| 21600/21600 [00:09<00:00, 2162.14 examples/s]\n",
      "Map: 100%|████████████████████████████████████████████████████████████████| 7200/7200 [00:03<00:00, 2158.61 examples/s]\n",
      "Map: 100%|████████████████████████████████████████████████████████████| 720000/720000 [05:27<00:00, 2199.87 examples/s]\n"
     ]
    }
   ],
   "source": [
    "def apply_tokenizer(batch):\n",
    "    return tokenizer(batch['text'],padding=True,truncation=True)\n",
    "data_encoded = data.map(apply_tokenizer,batched=False,batch_size=None)"
   ]
  },
  {
   "cell_type": "markdown",
   "id": "54b78833-0889-4334-9807-a99275057fe3",
   "metadata": {},
   "source": [
    "## Modeling"
   ]
  },
  {
   "cell_type": "code",
   "execution_count": 29,
   "id": "4a28a76b-10ce-4edb-a430-1bb43c666dad",
   "metadata": {},
   "outputs": [],
   "source": [
    "from huggingface_hub import login\n",
    "login(token=\"API_KEY\")"
   ]
  },
  {
   "cell_type": "code",
   "execution_count": 30,
   "id": "4a5f31cd-3ab8-402d-a60e-954e76bbd7df",
   "metadata": {},
   "outputs": [],
   "source": [
    "num_label = 2\n",
    "model_ckpt = 'distilbert/distilbert-base-uncased'\n",
    "model = (AutoModelForSequenceClassification.from_pretrained(model_ckpt,num_labels=num_label).to(device))"
   ]
  },
  {
   "cell_type": "code",
   "execution_count": 31,
   "id": "0590ad6e-77f5-49cf-9cbe-adfac1d52aa2",
   "metadata": {},
   "outputs": [],
   "source": [
    "def compute_metrics(pred):\n",
    "    labels = pred.label_ids\n",
    "    preds = pred.predictions.argmax(-1)\n",
    "    f1 = f1_score(labels,preds,average='macro')\n",
    "    acc = accuracy_score(labels,preds)\n",
    "\n",
    "    return {'f1':f1,'accuracy':acc}"
   ]
  },
  {
   "cell_type": "code",
   "execution_count": 33,
   "id": "bfb4a5cb-af44-48b3-96a6-32212f723d56",
   "metadata": {},
   "outputs": [],
   "source": [
    "batch_size=16\n",
    "logging_steps = len(data['train'])//batch_size\n",
    "model_name = 'distilbert-base-uncased-sentiment-analysis'\n",
    "learning_rate=2e-5\n",
    "num_epochs = 5\n",
    "log_level = 'error'\n",
    "weight_decay = 0.01\n",
    "early_stopping_patience=2\n",
    "training_args = TrainingArguments(\n",
    "    output_dir=model_name,\n",
    "    per_device_train_batch_size=batch_size,\n",
    "    per_device_eval_batch_size=batch_size,\n",
    "    log_level=log_level,\n",
    "    logging_steps=logging_steps,\n",
    "    learning_rate=learning_rate,\n",
    "    num_train_epochs=num_epochs,\n",
    "    weight_decay=weight_decay,\n",
    "    load_best_model_at_end=True,\n",
    "    push_to_hub=True,\n",
    "    disable_tqdm=False,\n",
    "    eval_strategy='epoch',\n",
    "    save_strategy='epoch'\n",
    ")\n",
    "trainer = Trainer(\n",
    "    model=model,\n",
    "    compute_metrics=compute_metrics,\n",
    "    args=training_args,\n",
    "    train_dataset=data_encoded['train'],\n",
    "    eval_dataset=data_encoded['validation'],\n",
    "    callbacks=[EarlyStoppingCallback(early_stopping_patience=early_stopping_patience)],\n",
    "    processing_class=tokenizer\n",
    ")"
   ]
  },
  {
   "cell_type": "code",
   "execution_count": 34,
   "id": "f3bfa4a1-82d3-4118-a867-5890c18b1d54",
   "metadata": {},
   "outputs": [
    {
     "data": {
      "text/plain": [
       "DatasetDict({\n",
       "    train: Dataset({\n",
       "        features: ['index', 'label', 'text', 'input_ids', 'attention_mask'],\n",
       "        num_rows: 21600\n",
       "    })\n",
       "    validation: Dataset({\n",
       "        features: ['index', 'label', 'text', 'input_ids', 'attention_mask'],\n",
       "        num_rows: 7200\n",
       "    })\n",
       "    test: Dataset({\n",
       "        features: ['index', 'label', 'text', 'input_ids', 'attention_mask'],\n",
       "        num_rows: 720000\n",
       "    })\n",
       "})"
      ]
     },
     "execution_count": 34,
     "metadata": {},
     "output_type": "execute_result"
    }
   ],
   "source": [
    "data_encoded"
   ]
  },
  {
   "cell_type": "code",
   "execution_count": 35,
   "id": "b9a9d6fb-2351-4271-976f-7c82c4449547",
   "metadata": {},
   "outputs": [
    {
     "data": {
      "text/html": [
       "\n",
       "    <div>\n",
       "      \n",
       "      <progress value='4050' max='6750' style='width:300px; height:20px; vertical-align: middle;'></progress>\n",
       "      [4050/6750 1:21:40 < 54:28, 0.83 it/s, Epoch 3/5]\n",
       "    </div>\n",
       "    <table border=\"1\" class=\"dataframe\">\n",
       "  <thead>\n",
       " <tr style=\"text-align: left;\">\n",
       "      <th>Epoch</th>\n",
       "      <th>Training Loss</th>\n",
       "      <th>Validation Loss</th>\n",
       "      <th>F1</th>\n",
       "      <th>Accuracy</th>\n",
       "    </tr>\n",
       "  </thead>\n",
       "  <tbody>\n",
       "    <tr>\n",
       "      <td>1</td>\n",
       "      <td>0.263800</td>\n",
       "      <td>0.216264</td>\n",
       "      <td>0.924827</td>\n",
       "      <td>0.924861</td>\n",
       "    </tr>\n",
       "    <tr>\n",
       "      <td>2</td>\n",
       "      <td>0.153900</td>\n",
       "      <td>0.230931</td>\n",
       "      <td>0.926512</td>\n",
       "      <td>0.926528</td>\n",
       "    </tr>\n",
       "    <tr>\n",
       "      <td>3</td>\n",
       "      <td>0.084900</td>\n",
       "      <td>0.303791</td>\n",
       "      <td>0.920210</td>\n",
       "      <td>0.920278</td>\n",
       "    </tr>\n",
       "  </tbody>\n",
       "</table><p>"
      ],
      "text/plain": [
       "<IPython.core.display.HTML object>"
      ]
     },
     "metadata": {},
     "output_type": "display_data"
    },
    {
     "data": {
      "text/plain": [
       "TrainOutput(global_step=4050, training_loss=0.167523843270761, metrics={'train_runtime': 4900.8328, 'train_samples_per_second': 22.037, 'train_steps_per_second': 1.377, 'total_flos': 3383465738046720.0, 'train_loss': 0.167523843270761, 'epoch': 3.0})"
      ]
     },
     "execution_count": 35,
     "metadata": {},
     "output_type": "execute_result"
    }
   ],
   "source": [
    "trainer.train()"
   ]
  },
  {
   "cell_type": "code",
   "execution_count": 36,
   "id": "d02bf0f3-1606-48a0-a5dc-3673cd6f48a5",
   "metadata": {},
   "outputs": [
    {
     "data": {
      "text/plain": [
       "CommitInfo(commit_url='https://huggingface.co/hanifimaduddin/distilbert-base-uncased-sentiment-analysis/commit/e70fdfd56831c1ad33199ce81680e388d0485d3e', commit_message='done', commit_description='', oid='e70fdfd56831c1ad33199ce81680e388d0485d3e', pr_url=None, repo_url=RepoUrl('https://huggingface.co/hanifimaduddin/distilbert-base-uncased-sentiment-analysis', endpoint='https://huggingface.co', repo_type='model', repo_id='hanifimaduddin/distilbert-base-uncased-sentiment-analysis'), pr_revision=None, pr_num=None)"
      ]
     },
     "execution_count": 36,
     "metadata": {},
     "output_type": "execute_result"
    }
   ],
   "source": [
    "trainer.push_to_hub(commit_message=\"done\")"
   ]
  },
  {
   "cell_type": "code",
   "execution_count": 39,
   "id": "c3096d6d-93ed-46b5-80a8-3fce14cbea7b",
   "metadata": {},
   "outputs": [
    {
     "data": {
      "text/html": [],
      "text/plain": [
       "<IPython.core.display.HTML object>"
      ]
     },
     "metadata": {},
     "output_type": "display_data"
    }
   ],
   "source": [
    "pred = trainer.predict(data_encoded['test'])"
   ]
  },
  {
   "cell_type": "code",
   "execution_count": 41,
   "id": "bb2e6c16-43a2-43de-8adb-428120c59e03",
   "metadata": {},
   "outputs": [],
   "source": [
    "pred_labeled = pred.predictions.argmax(-1)"
   ]
  },
  {
   "cell_type": "code",
   "execution_count": 44,
   "id": "96a49fdb-cf3e-44f6-ada4-f0da1ec242ed",
   "metadata": {},
   "outputs": [],
   "source": [
    "test['predcition'] = pred_labeled"
   ]
  },
  {
   "cell_type": "code",
   "execution_count": 45,
   "id": "7fa94598-f6ed-4d59-94dc-cfdeb8eec540",
   "metadata": {},
   "outputs": [
    {
     "data": {
      "text/html": [
       "<div>\n",
       "<style scoped>\n",
       "    .dataframe tbody tr th:only-of-type {\n",
       "        vertical-align: middle;\n",
       "    }\n",
       "\n",
       "    .dataframe tbody tr th {\n",
       "        vertical-align: top;\n",
       "    }\n",
       "\n",
       "    .dataframe thead th {\n",
       "        text-align: right;\n",
       "    }\n",
       "</style>\n",
       "<table border=\"1\" class=\"dataframe\">\n",
       "  <thead>\n",
       "    <tr style=\"text-align: right;\">\n",
       "      <th></th>\n",
       "      <th>label</th>\n",
       "      <th>text</th>\n",
       "      <th>predcition</th>\n",
       "    </tr>\n",
       "  </thead>\n",
       "  <tbody>\n",
       "    <tr>\n",
       "      <th>992216</th>\n",
       "      <td>0</td>\n",
       "      <td>seriously.... can we please get some kind of \"...</td>\n",
       "      <td>0</td>\n",
       "    </tr>\n",
       "    <tr>\n",
       "      <th>1382511</th>\n",
       "      <td>0</td>\n",
       "      <td>this book was a great dissapointment. i read a...</td>\n",
       "      <td>0</td>\n",
       "    </tr>\n",
       "    <tr>\n",
       "      <th>1793586</th>\n",
       "      <td>0</td>\n",
       "      <td>i loved this rice cooker, and thought it was a...</td>\n",
       "      <td>0</td>\n",
       "    </tr>\n",
       "    <tr>\n",
       "      <th>2484056</th>\n",
       "      <td>1</td>\n",
       "      <td>for those looking for a dvd that will last a l...</td>\n",
       "      <td>1</td>\n",
       "    </tr>\n",
       "    <tr>\n",
       "      <th>313689</th>\n",
       "      <td>1</td>\n",
       "      <td>first battery tender i've purchased. used to r...</td>\n",
       "      <td>1</td>\n",
       "    </tr>\n",
       "    <tr>\n",
       "      <th>...</th>\n",
       "      <td>...</td>\n",
       "      <td>...</td>\n",
       "      <td>...</td>\n",
       "    </tr>\n",
       "    <tr>\n",
       "      <th>2056330</th>\n",
       "      <td>1</td>\n",
       "      <td>please check the color of the shipping box the...</td>\n",
       "      <td>0</td>\n",
       "    </tr>\n",
       "    <tr>\n",
       "      <th>2458901</th>\n",
       "      <td>1</td>\n",
       "      <td>i'm ordering my 2nd copy! this is no longer a ...</td>\n",
       "      <td>1</td>\n",
       "    </tr>\n",
       "    <tr>\n",
       "      <th>3216830</th>\n",
       "      <td>0</td>\n",
       "      <td>admittedly, i have not started law school yet,...</td>\n",
       "      <td>0</td>\n",
       "    </tr>\n",
       "    <tr>\n",
       "      <th>2404814</th>\n",
       "      <td>0</td>\n",
       "      <td>well, been waiting...when is the dvd version b...</td>\n",
       "      <td>0</td>\n",
       "    </tr>\n",
       "    <tr>\n",
       "      <th>1050703</th>\n",
       "      <td>0</td>\n",
       "      <td>you just keep it up and stay that course while...</td>\n",
       "      <td>1</td>\n",
       "    </tr>\n",
       "  </tbody>\n",
       "</table>\n",
       "<p>720000 rows × 3 columns</p>\n",
       "</div>"
      ],
      "text/plain": [
       "         label                                               text  predcition\n",
       "992216       0  seriously.... can we please get some kind of \"...           0\n",
       "1382511      0  this book was a great dissapointment. i read a...           0\n",
       "1793586      0  i loved this rice cooker, and thought it was a...           0\n",
       "2484056      1  for those looking for a dvd that will last a l...           1\n",
       "313689       1  first battery tender i've purchased. used to r...           1\n",
       "...        ...                                                ...         ...\n",
       "2056330      1  please check the color of the shipping box the...           0\n",
       "2458901      1  i'm ordering my 2nd copy! this is no longer a ...           1\n",
       "3216830      0  admittedly, i have not started law school yet,...           0\n",
       "2404814      0  well, been waiting...when is the dvd version b...           0\n",
       "1050703      0  you just keep it up and stay that course while...           1\n",
       "\n",
       "[720000 rows x 3 columns]"
      ]
     },
     "execution_count": 45,
     "metadata": {},
     "output_type": "execute_result"
    }
   ],
   "source": [
    "test"
   ]
  },
  {
   "cell_type": "code",
   "execution_count": 49,
   "id": "9cd96a2c-9f79-41a0-90c4-e99e1e8233f1",
   "metadata": {},
   "outputs": [],
   "source": [
    "report = classification_report(test['label'],test['predcition'])"
   ]
  },
  {
   "cell_type": "code",
   "execution_count": 53,
   "id": "754c2881-35a5-4272-9b02-573060774d33",
   "metadata": {},
   "outputs": [],
   "source": [
    "df_ = pd.read_csv(\"Dataset Pertama_train.csv\", header=None, names=[\"kelas\", \"title\", \"review\"])"
   ]
  },
  {
   "cell_type": "code",
   "execution_count": 58,
   "id": "d5bf51f6-d0f1-4630-954e-89811da70802",
   "metadata": {},
   "outputs": [],
   "source": [
    "test_df = df_.iloc[test.index].copy()"
   ]
  },
  {
   "cell_type": "code",
   "execution_count": 61,
   "id": "27a8e965-3214-42da-8c63-081470e8810e",
   "metadata": {},
   "outputs": [],
   "source": [
    "test_df['prediksi'] = pred_labeled+1"
   ]
  },
  {
   "cell_type": "code",
   "execution_count": 62,
   "id": "f8de7b6b-3142-4418-944b-237cf3270ff4",
   "metadata": {},
   "outputs": [
    {
     "data": {
      "text/html": [
       "<div>\n",
       "<style scoped>\n",
       "    .dataframe tbody tr th:only-of-type {\n",
       "        vertical-align: middle;\n",
       "    }\n",
       "\n",
       "    .dataframe tbody tr th {\n",
       "        vertical-align: top;\n",
       "    }\n",
       "\n",
       "    .dataframe thead th {\n",
       "        text-align: right;\n",
       "    }\n",
       "</style>\n",
       "<table border=\"1\" class=\"dataframe\">\n",
       "  <thead>\n",
       "    <tr style=\"text-align: right;\">\n",
       "      <th></th>\n",
       "      <th>kelas</th>\n",
       "      <th>title</th>\n",
       "      <th>review</th>\n",
       "      <th>prediksi</th>\n",
       "    </tr>\n",
       "  </thead>\n",
       "  <tbody>\n",
       "    <tr>\n",
       "      <th>992216</th>\n",
       "      <td>1</td>\n",
       "      <td>Can we please get \"propaganda\" included in the...</td>\n",
       "      <td>Seriously.... Can we please get some kind of \"...</td>\n",
       "      <td>1</td>\n",
       "    </tr>\n",
       "    <tr>\n",
       "      <th>1382511</th>\n",
       "      <td>1</td>\n",
       "      <td>...rent a movie instead... minus 5 stars</td>\n",
       "      <td>This book was a great dissapointment. I read a...</td>\n",
       "      <td>1</td>\n",
       "    </tr>\n",
       "    <tr>\n",
       "      <th>1793586</th>\n",
       "      <td>1</td>\n",
       "      <td>Stopped working after 2 years</td>\n",
       "      <td>I loved this rice cooker, and thought it was a...</td>\n",
       "      <td>1</td>\n",
       "    </tr>\n",
       "    <tr>\n",
       "      <th>2484056</th>\n",
       "      <td>2</td>\n",
       "      <td>Verbatim Ultra-life DVD's</td>\n",
       "      <td>For those looking for a DVD that will last a l...</td>\n",
       "      <td>2</td>\n",
       "    </tr>\n",
       "    <tr>\n",
       "      <th>313689</th>\n",
       "      <td>2</td>\n",
       "      <td>First Tender Purchased</td>\n",
       "      <td>First battery tender I've purchased. Used to r...</td>\n",
       "      <td>2</td>\n",
       "    </tr>\n",
       "    <tr>\n",
       "      <th>...</th>\n",
       "      <td>...</td>\n",
       "      <td>...</td>\n",
       "      <td>...</td>\n",
       "      <td>...</td>\n",
       "    </tr>\n",
       "    <tr>\n",
       "      <th>2056330</th>\n",
       "      <td>2</td>\n",
       "      <td>Check the color of the box</td>\n",
       "      <td>Please check the color of the shipping box the...</td>\n",
       "      <td>1</td>\n",
       "    </tr>\n",
       "    <tr>\n",
       "      <th>2458901</th>\n",
       "      <td>2</td>\n",
       "      <td>FINALLY, SOMEONE IS TALKING!</td>\n",
       "      <td>I'm ordering my 2nd copy! This is no longer a ...</td>\n",
       "      <td>2</td>\n",
       "    </tr>\n",
       "    <tr>\n",
       "      <th>3216830</th>\n",
       "      <td>1</td>\n",
       "      <td>Good, If you plan on going to Harvard</td>\n",
       "      <td>Admittedly, I have not started law school yet,...</td>\n",
       "      <td>1</td>\n",
       "    </tr>\n",
       "    <tr>\n",
       "      <th>2404814</th>\n",
       "      <td>1</td>\n",
       "      <td>Where is he DVD version ?</td>\n",
       "      <td>Well, been waiting...when is the DVD version b...</td>\n",
       "      <td>1</td>\n",
       "    </tr>\n",
       "    <tr>\n",
       "      <th>1050703</th>\n",
       "      <td>1</td>\n",
       "      <td>You people still having fun bashing John Kerry...</td>\n",
       "      <td>You just keep it up and stay that course while...</td>\n",
       "      <td>2</td>\n",
       "    </tr>\n",
       "  </tbody>\n",
       "</table>\n",
       "<p>720000 rows × 4 columns</p>\n",
       "</div>"
      ],
      "text/plain": [
       "         kelas                                              title  \\\n",
       "992216       1  Can we please get \"propaganda\" included in the...   \n",
       "1382511      1           ...rent a movie instead... minus 5 stars   \n",
       "1793586      1                      Stopped working after 2 years   \n",
       "2484056      2                          Verbatim Ultra-life DVD's   \n",
       "313689       2                             First Tender Purchased   \n",
       "...        ...                                                ...   \n",
       "2056330      2                         Check the color of the box   \n",
       "2458901      2                       FINALLY, SOMEONE IS TALKING!   \n",
       "3216830      1              Good, If you plan on going to Harvard   \n",
       "2404814      1                          Where is he DVD version ?   \n",
       "1050703      1  You people still having fun bashing John Kerry...   \n",
       "\n",
       "                                                    review  prediksi  \n",
       "992216   Seriously.... Can we please get some kind of \"...         1  \n",
       "1382511  This book was a great dissapointment. I read a...         1  \n",
       "1793586  I loved this rice cooker, and thought it was a...         1  \n",
       "2484056  For those looking for a DVD that will last a l...         2  \n",
       "313689   First battery tender I've purchased. Used to r...         2  \n",
       "...                                                    ...       ...  \n",
       "2056330  Please check the color of the shipping box the...         1  \n",
       "2458901  I'm ordering my 2nd copy! This is no longer a ...         2  \n",
       "3216830  Admittedly, I have not started law school yet,...         1  \n",
       "2404814  Well, been waiting...when is the DVD version b...         1  \n",
       "1050703  You just keep it up and stay that course while...         2  \n",
       "\n",
       "[720000 rows x 4 columns]"
      ]
     },
     "execution_count": 62,
     "metadata": {},
     "output_type": "execute_result"
    }
   ],
   "source": [
    "test_df"
   ]
  },
  {
   "cell_type": "code",
   "execution_count": 69,
   "id": "84f77b58-2705-4fd7-92fd-9bbe2f477fef",
   "metadata": {},
   "outputs": [],
   "source": [
    "test_df = test_df.reset_index()"
   ]
  },
  {
   "cell_type": "code",
   "execution_count": 73,
   "id": "d0616270-2e96-44a5-a0fb-74e59a8a7b62",
   "metadata": {},
   "outputs": [],
   "source": [
    "test_df.to_csv('hasil_prediksi_distilbert.csv',index=False)"
   ]
  },
  {
   "cell_type": "code",
   "execution_count": 74,
   "id": "a89eae62-abfc-47a6-9554-59ea6fbc4cd6",
   "metadata": {},
   "outputs": [],
   "source": [
    "nyoba = pd.read_csv('hasil_prediksi_distilbert.csv')"
   ]
  },
  {
   "cell_type": "code",
   "execution_count": 75,
   "id": "b7f7d60a-e699-4e08-bb9a-891dc50c5878",
   "metadata": {},
   "outputs": [
    {
     "data": {
      "text/html": [
       "<div>\n",
       "<style scoped>\n",
       "    .dataframe tbody tr th:only-of-type {\n",
       "        vertical-align: middle;\n",
       "    }\n",
       "\n",
       "    .dataframe tbody tr th {\n",
       "        vertical-align: top;\n",
       "    }\n",
       "\n",
       "    .dataframe thead th {\n",
       "        text-align: right;\n",
       "    }\n",
       "</style>\n",
       "<table border=\"1\" class=\"dataframe\">\n",
       "  <thead>\n",
       "    <tr style=\"text-align: right;\">\n",
       "      <th></th>\n",
       "      <th>index</th>\n",
       "      <th>kelas</th>\n",
       "      <th>title</th>\n",
       "      <th>review</th>\n",
       "      <th>prediksi</th>\n",
       "    </tr>\n",
       "  </thead>\n",
       "  <tbody>\n",
       "    <tr>\n",
       "      <th>0</th>\n",
       "      <td>992216</td>\n",
       "      <td>1</td>\n",
       "      <td>Can we please get \"propaganda\" included in the...</td>\n",
       "      <td>Seriously.... Can we please get some kind of \"...</td>\n",
       "      <td>1</td>\n",
       "    </tr>\n",
       "    <tr>\n",
       "      <th>1</th>\n",
       "      <td>1382511</td>\n",
       "      <td>1</td>\n",
       "      <td>...rent a movie instead... minus 5 stars</td>\n",
       "      <td>This book was a great dissapointment. I read a...</td>\n",
       "      <td>1</td>\n",
       "    </tr>\n",
       "    <tr>\n",
       "      <th>2</th>\n",
       "      <td>1793586</td>\n",
       "      <td>1</td>\n",
       "      <td>Stopped working after 2 years</td>\n",
       "      <td>I loved this rice cooker, and thought it was a...</td>\n",
       "      <td>1</td>\n",
       "    </tr>\n",
       "    <tr>\n",
       "      <th>3</th>\n",
       "      <td>2484056</td>\n",
       "      <td>2</td>\n",
       "      <td>Verbatim Ultra-life DVD's</td>\n",
       "      <td>For those looking for a DVD that will last a l...</td>\n",
       "      <td>2</td>\n",
       "    </tr>\n",
       "    <tr>\n",
       "      <th>4</th>\n",
       "      <td>313689</td>\n",
       "      <td>2</td>\n",
       "      <td>First Tender Purchased</td>\n",
       "      <td>First battery tender I've purchased. Used to r...</td>\n",
       "      <td>2</td>\n",
       "    </tr>\n",
       "    <tr>\n",
       "      <th>...</th>\n",
       "      <td>...</td>\n",
       "      <td>...</td>\n",
       "      <td>...</td>\n",
       "      <td>...</td>\n",
       "      <td>...</td>\n",
       "    </tr>\n",
       "    <tr>\n",
       "      <th>719995</th>\n",
       "      <td>2056330</td>\n",
       "      <td>2</td>\n",
       "      <td>Check the color of the box</td>\n",
       "      <td>Please check the color of the shipping box the...</td>\n",
       "      <td>1</td>\n",
       "    </tr>\n",
       "    <tr>\n",
       "      <th>719996</th>\n",
       "      <td>2458901</td>\n",
       "      <td>2</td>\n",
       "      <td>FINALLY, SOMEONE IS TALKING!</td>\n",
       "      <td>I'm ordering my 2nd copy! This is no longer a ...</td>\n",
       "      <td>2</td>\n",
       "    </tr>\n",
       "    <tr>\n",
       "      <th>719997</th>\n",
       "      <td>3216830</td>\n",
       "      <td>1</td>\n",
       "      <td>Good, If you plan on going to Harvard</td>\n",
       "      <td>Admittedly, I have not started law school yet,...</td>\n",
       "      <td>1</td>\n",
       "    </tr>\n",
       "    <tr>\n",
       "      <th>719998</th>\n",
       "      <td>2404814</td>\n",
       "      <td>1</td>\n",
       "      <td>Where is he DVD version ?</td>\n",
       "      <td>Well, been waiting...when is the DVD version b...</td>\n",
       "      <td>1</td>\n",
       "    </tr>\n",
       "    <tr>\n",
       "      <th>719999</th>\n",
       "      <td>1050703</td>\n",
       "      <td>1</td>\n",
       "      <td>You people still having fun bashing John Kerry...</td>\n",
       "      <td>You just keep it up and stay that course while...</td>\n",
       "      <td>2</td>\n",
       "    </tr>\n",
       "  </tbody>\n",
       "</table>\n",
       "<p>720000 rows × 5 columns</p>\n",
       "</div>"
      ],
      "text/plain": [
       "          index  kelas                                              title  \\\n",
       "0        992216      1  Can we please get \"propaganda\" included in the...   \n",
       "1       1382511      1           ...rent a movie instead... minus 5 stars   \n",
       "2       1793586      1                      Stopped working after 2 years   \n",
       "3       2484056      2                          Verbatim Ultra-life DVD's   \n",
       "4        313689      2                             First Tender Purchased   \n",
       "...         ...    ...                                                ...   \n",
       "719995  2056330      2                         Check the color of the box   \n",
       "719996  2458901      2                       FINALLY, SOMEONE IS TALKING!   \n",
       "719997  3216830      1              Good, If you plan on going to Harvard   \n",
       "719998  2404814      1                          Where is he DVD version ?   \n",
       "719999  1050703      1  You people still having fun bashing John Kerry...   \n",
       "\n",
       "                                                   review  prediksi  \n",
       "0       Seriously.... Can we please get some kind of \"...         1  \n",
       "1       This book was a great dissapointment. I read a...         1  \n",
       "2       I loved this rice cooker, and thought it was a...         1  \n",
       "3       For those looking for a DVD that will last a l...         2  \n",
       "4       First battery tender I've purchased. Used to r...         2  \n",
       "...                                                   ...       ...  \n",
       "719995  Please check the color of the shipping box the...         1  \n",
       "719996  I'm ordering my 2nd copy! This is no longer a ...         2  \n",
       "719997  Admittedly, I have not started law school yet,...         1  \n",
       "719998  Well, been waiting...when is the DVD version b...         1  \n",
       "719999  You just keep it up and stay that course while...         2  \n",
       "\n",
       "[720000 rows x 5 columns]"
      ]
     },
     "execution_count": 75,
     "metadata": {},
     "output_type": "execute_result"
    }
   ],
   "source": [
    "nyoba"
   ]
  }
 ],
 "metadata": {
  "kernelspec": {
   "display_name": "Python 3 (ipykernel)",
   "language": "python",
   "name": "python3"
  },
  "language_info": {
   "codemirror_mode": {
    "name": "ipython",
    "version": 3
   },
   "file_extension": ".py",
   "mimetype": "text/x-python",
   "name": "python",
   "nbconvert_exporter": "python",
   "pygments_lexer": "ipython3",
   "version": "3.11.11"
  }
 },
 "nbformat": 4,
 "nbformat_minor": 5
}
